{
 "cells": [
  {
   "cell_type": "markdown",
   "metadata": {
    "pycharm": {}
   },
   "source": [
    "# Preprocess Data\n",
    "This notebook contains materials to parse raw python files into function and docstring pairs, tokenize both function and dosctring into tokens, and split these pairs into a train, valid and test set.  \n",
    "\n",
    "*This step is optional, as we provide links to download pre-processed data at various points in the tutorial.  However, you might find it useful to go through these steps in order to understand how the data is prepared.*\n",
    "\n",
    "If you are using the recommended approach of using a `p3.8xlarge` instance for this entire tutorial you can use this docker container to run this notebook: [hamelsmu/ml-gpu](https://hub.docker.com/r/hamelsmu/ml-gpu/).\n",
    "\n",
    "Alternatively, if you wish to speed up *this notebook* by using an instance with lots of cores (because everything in this notebook is CPU bound), you can use this container [hamelsmu/ml-cpu](https://hub.docker.com/r/hamelsmu/ml-gpu/).\n"
   ]
  },
  {
   "cell_type": "code",
   "execution_count": 6,
   "metadata": {
    "pycharm": {
     "is_executing": false
    }
   },
   "outputs": [],
   "source": [
    "%load_ext autoreload\n",
    "%autoreload 2\n",
    "\n",
    "from pathlib import Path\n",
    "\n",
    "# EN = spacy.load('en_core_web_sm')\n",
    "import en_core_web_sm\n",
    "import pandas as pd\n",
    "from sklearn.model_selection import train_test_split\n",
    "\n",
    "from general_utils import apply_parallel, flattenlist\n",
    "EN = en_core_web_sm.load()"
   ]
  },
  {
   "cell_type": "code",
   "execution_count": 2,
   "metadata": {
    "pycharm": {
     "is_executing": false
    }
   },
   "outputs": [
    {
     "name": "stdout",
     "output_type": "stream",
     "text": [
      "/home/chintanshah/deep-code-search/code_search/notebooks\r\n"
     ]
    }
   ],
   "source": [
    "! pwd"
   ]
  },
  {
   "cell_type": "markdown",
   "metadata": {
    "pycharm": {}
   },
   "source": [
    "## Download and read  raw python files\n",
    "\n",
    "The first thing we will want to do is to gather python code.  There is an open dataset that Google hosts on [BigQuery](https://cloud.google.com/bigquery/) that has code from open source projects on Github.  You can use [bigquery](https://cloud.google.com/bigquery/) to get the python files as a tabular dataset by executing the following SQL query in the bigquery console:\n",
    "\n",
    "```{sql}\n",
    "SELECT \n",
    " max(concat(f.repo_name, ' ', f.path)) as repo_path,\n",
    " c.content\n",
    "FROM `bigquery-public-data.github_repos.files` as f\n",
    "JOIN `bigquery-public-data.github_repos.contents` as c on f.id = c.id\n",
    "JOIN (\n",
    "      --this part of the query makes sure repo is watched at least twice since 2017\n",
    "      SELECT repo FROM(\n",
    "        SELECT \n",
    "          repo.name as repo\n",
    "        FROM `githubarchive.year.2017` WHERE type=\"WatchEvent\"\n",
    "        UNION ALL\n",
    "        SELECT \n",
    "          repo.name as repo\n",
    "        FROM `githubarchive.month.2018*` WHERE type=\"WatchEvent\"\n",
    "        )\n",
    "      GROUP BY 1\n",
    "      HAVING COUNT(*) >= 2\n",
    "      ) as r on f.repo_name = r.repo\n",
    "WHERE \n",
    "  f.path like '%.py' and --with python extension\n",
    "  c.size < 15000 and --get rid of ridiculously long files\n",
    "  REGEXP_CONTAINS(c.content, r'def ') --contains function definition\n",
    "group by c.content\n",
    "```\n",
    "\n",
    "\n",
    "Here is a link to the [SQL Query](https://bigquery.cloud.google.com/savedquery/506213277345:009fa66f301240e5ad9e4006c59a4762) incase it is helpful.  The raw data contains approximate 1.2 million distinct python code files.\n",
    "\n",
    "**To make things easier for this tutorial, the folks on the Google [Kubeflow team](https://kubernetes.io/blog/2017/12/introducing-kubeflow-composable/) have hosted the raw data for this tutorial in the form of 10 csv files, available at the url: https://storage.googleapis.com/kubeflow-examples/code_search/raw_data/00000000000{i}.csv as illustrated in the below code:**"
   ]
  },
  {
   "cell_type": "code",
   "execution_count": 37,
   "metadata": {
    "pycharm": {
     "is_executing": false
    }
   },
   "outputs": [
    {
     "data": {
      "text/html": [
       "<div>\n",
       "<style scoped>\n",
       "    .dataframe tbody tr th:only-of-type {\n",
       "        vertical-align: middle;\n",
       "    }\n",
       "\n",
       "    .dataframe tbody tr th {\n",
       "        vertical-align: top;\n",
       "    }\n",
       "\n",
       "    .dataframe thead th {\n",
       "        text-align: right;\n",
       "    }\n",
       "</style>\n",
       "<table border=\"1\" class=\"dataframe\">\n",
       "  <thead>\n",
       "    <tr style=\"text-align: right;\">\n",
       "      <th></th>\n",
       "      <th>nwo</th>\n",
       "      <th>path</th>\n",
       "      <th>content</th>\n",
       "    </tr>\n",
       "  </thead>\n",
       "  <tbody>\n",
       "    <tr>\n",
       "      <th>0</th>\n",
       "      <td>fnl/libfnl</td>\n",
       "      <td>src/fnl/nlp/dictionary.py</td>\n",
       "      <td>\"\"\"\\n.. py:module:: fnl.text.dictionary\\n   :s...</td>\n",
       "    </tr>\n",
       "    <tr>\n",
       "      <th>1</th>\n",
       "      <td>KivApple/mcu-info-util</td>\n",
       "      <td>mcu_info_util/linker_script.py</td>\n",
       "      <td>from six import iteritems\\n\\n\\ndef generate(op...</td>\n",
       "    </tr>\n",
       "    <tr>\n",
       "      <th>2</th>\n",
       "      <td>Yelp/pyleus</td>\n",
       "      <td>examples/bandwith_monitoring/bandwith_monitori...</td>\n",
       "      <td>from __future__ import absolute_import, divisi...</td>\n",
       "    </tr>\n",
       "    <tr>\n",
       "      <th>3</th>\n",
       "      <td>jhuapl-boss/boss-manage</td>\n",
       "      <td>bin/bearer_token.py</td>\n",
       "      <td>#!/usr/bin/env python3\\n\\n# Copyright 2016 The...</td>\n",
       "    </tr>\n",
       "    <tr>\n",
       "      <th>4</th>\n",
       "      <td>djfroofy/beatlounge</td>\n",
       "      <td>bl/orchestra/base.py</td>\n",
       "      <td>from itertools import cycle\\n\\nfrom twisted.py...</td>\n",
       "    </tr>\n",
       "  </tbody>\n",
       "</table>\n",
       "</div>"
      ],
      "text/plain": [
       "                       nwo                                               path  \\\n",
       "0               fnl/libfnl                          src/fnl/nlp/dictionary.py   \n",
       "1   KivApple/mcu-info-util                     mcu_info_util/linker_script.py   \n",
       "2              Yelp/pyleus  examples/bandwith_monitoring/bandwith_monitori...   \n",
       "3  jhuapl-boss/boss-manage                                bin/bearer_token.py   \n",
       "4      djfroofy/beatlounge                               bl/orchestra/base.py   \n",
       "\n",
       "                                             content  \n",
       "0  \"\"\"\\n.. py:module:: fnl.text.dictionary\\n   :s...  \n",
       "1  from six import iteritems\\n\\n\\ndef generate(op...  \n",
       "2  from __future__ import absolute_import, divisi...  \n",
       "3  #!/usr/bin/env python3\\n\\n# Copyright 2016 The...  \n",
       "4  from itertools import cycle\\n\\nfrom twisted.py...  "
      ]
     },
     "execution_count": 37,
     "metadata": {},
     "output_type": "execute_result"
    }
   ],
   "source": [
    "# Read the data into a pandas dataframe, and parse out some meta-data\n",
    "\n",
    "df = pd.concat([pd.read_csv(f'https://storage.googleapis.com/kubeflow-examples/code_search/raw_data/00000000000{i}.csv') \\\n",
    "                for i in range(10)])\n",
    "\n",
    "df['nwo'] = df['repo_path'].apply(lambda r: r.split()[0])\n",
    "df['path'] = df['repo_path'].apply(lambda r: r.split()[1])\n",
    "df.drop(columns=['repo_path'], inplace=True)\n",
    "df = df[['nwo', 'path', 'content']]\n",
    "df.head()"
   ]
  },
  {
   "cell_type": "code",
   "execution_count": 38,
   "metadata": {
    "pycharm": {
     "is_executing": false
    }
   },
   "outputs": [
    {
     "data": {
      "text/plain": [
       "(1241664, 3)"
      ]
     },
     "execution_count": 38,
     "metadata": {},
     "output_type": "execute_result"
    }
   ],
   "source": [
    "# Inspect shape of the raw data\n",
    "df.shape"
   ]
  },
  {
   "cell_type": "markdown",
   "metadata": {
    "pycharm": {}
   },
   "source": [
    "## Functions to parse data and tokenize\n",
    "\n",
    "Our goal is to parse the python files into (code, docstring) pairs.  Fortunately, the standard library in python comes with the wonderful [ast](https://docs.python.org/3.6/library/ast.html) module which helps us extract code from files as well as extract docstrings.  \n",
    "\n",
    "We also use the [astor](http://astor.readthedocs.io/en/latest/) library to strip the code of comments by doing a round trip of converting the code to an [AST](https://en.wikipedia.org/wiki/Abstract_syntax_tree) and then from AST back to code. "
   ]
  },
  {
   "cell_type": "code",
   "execution_count": null,
   "metadata": {
    "pycharm": {
     "is_executing": false
    }
   },
   "outputs": [],
   "source": [
    "# def tokenize_docstring(text):\n",
    "#     \"Apply tokenization using spacy to docstrings.\"\n",
    "#     tokens = EN.tokenizer(text)\n",
    "#     return [token.text.lower() for token in tokens if not token.is_space]\n",
    "# \n",
    "# \n",
    "# def tokenize_code(text):\n",
    "#     \"A very basic procedure for tokenizing code strings.\"\n",
    "#     return RegexpTokenizer(r'\\w+').tokenize(text)\n",
    "# \n",
    "# \n",
    "# def get_function_docstring_pairs(blob):\n",
    "#     \"Extract (function/method, docstring) pairs from a given code blob.\"\n",
    "#     pairs = []\n",
    "#     try:\n",
    "#         module = ast.parse(blob)\n",
    "#         classes = [node for node in module.body if isinstance(node, ast.ClassDef)]\n",
    "#         functions = [node for node in module.body if isinstance(node, ast.FunctionDef)]\n",
    "#         for _class in classes:\n",
    "#             functions.extend([node for node in _class.body if isinstance(node, ast.FunctionDef)])\n",
    "# \n",
    "#         for f in functions:\n",
    "#             source = astor.to_source(f)\n",
    "#             docstring = ast.get_docstring(f) if ast.get_docstring(f) else ''\n",
    "#             function = source.replace(ast.get_docstring(f, clean=False), '') if docstring else source\n",
    "# \n",
    "#             pairs.append((f.name,\n",
    "#                           f.lineno,\n",
    "#                           source,\n",
    "#                           ' '.join(tokenize_code(function)),\n",
    "#                           ' '.join(tokenize_docstring(docstring.split('\\n\\n')[0]))\n",
    "#                          ))\n",
    "#     except (AssertionError, MemoryError, SyntaxError, UnicodeEncodeError):\n",
    "#         pass\n",
    "#     return pairs\n",
    "# \n",
    "# \n",
    "# def get_function_docstring_pairs_list(blob_list):\n",
    "#     \"\"\"apply the function `get_function_docstring_pairs` on a list of blobs\"\"\"\n",
    "#     return [get_function_docstring_pairs(b) for b in blob_list]\n",
    "\n",
    "from feature_extractor import get_function_docstring_pairs_list"
   ]
  },
  {
   "cell_type": "markdown",
   "metadata": {
    "pycharm": {}
   },
   "source": [
    "The below convience function `apply_parallel` parses the code in parallel using process based threading.  Adjust the `cpu_cores` parameter accordingly to your system resources!"
   ]
  },
  {
   "cell_type": "code",
   "execution_count": null,
   "metadata": {
    "pycharm": {
     "is_executing": false
    }
   },
   "outputs": [],
   "source": [
    "# %%time\n",
    "pairs = flattenlist(apply_parallel(get_function_docstring_pairs_list, df.content.tolist(), cpu_cores=16))"
   ]
  },
  {
   "cell_type": "code",
   "execution_count": null,
   "metadata": {
    "pycharm": {}
   },
   "outputs": [],
   "source": [
    "assert len(pairs) == df.shape[0], f'Row count mismatch. `df` has {df.shape[0]:,} rows; `pairs` has {len(pairs):,} rows.'\n",
    "df['pairs'] = pairs\n",
    "df.head()"
   ]
  },
  {
   "cell_type": "markdown",
   "metadata": {
    "pycharm": {}
   },
   "source": [
    "## Flatten code, docstring pairs and extract meta-data"
   ]
  },
  {
   "cell_type": "markdown",
   "metadata": {
    "pycharm": {}
   },
   "source": [
    "Flatten (code, docstring) pairs"
   ]
  },
  {
   "cell_type": "code",
   "execution_count": 12,
   "metadata": {
    "pycharm": {}
   },
   "outputs": [],
   "source": [
    "# %%time\n",
    "# flatten pairs\n",
    "df = df.set_index(['nwo', 'path'])['pairs'].apply(pd.Series).stack()\n",
    "df = df.reset_index()\n",
    "df.columns = ['nwo', 'path', '_', 'pair']"
   ]
  },
  {
   "cell_type": "markdown",
   "metadata": {
    "pycharm": {}
   },
   "source": [
    "Extract meta-data and format dataframe.  \n",
    "\n",
    "We have not optimized this code.  Pull requests are welcome!"
   ]
  },
  {
   "cell_type": "code",
   "execution_count": 13,
   "metadata": {
    "pycharm": {}
   },
   "outputs": [
    {
     "data": {
      "text/html": [
       "<div>\n",
       "<style scoped>\n",
       "    .dataframe tbody tr th:only-of-type {\n",
       "        vertical-align: middle;\n",
       "    }\n",
       "\n",
       "    .dataframe tbody tr th {\n",
       "        vertical-align: top;\n",
       "    }\n",
       "\n",
       "    .dataframe thead th {\n",
       "        text-align: right;\n",
       "    }\n",
       "</style>\n",
       "<table border=\"1\" class=\"dataframe\">\n",
       "  <thead>\n",
       "    <tr style=\"text-align: right;\">\n",
       "      <th></th>\n",
       "      <th>nwo</th>\n",
       "      <th>path</th>\n",
       "      <th>function_name</th>\n",
       "      <th>lineno</th>\n",
       "      <th>original_function</th>\n",
       "      <th>function_tokens</th>\n",
       "      <th>docstring_tokens</th>\n",
       "      <th>api_sequence</th>\n",
       "      <th>tokenized_function_name</th>\n",
       "    </tr>\n",
       "  </thead>\n",
       "  <tbody>\n",
       "    <tr>\n",
       "      <th>0</th>\n",
       "      <td>fnl/libfnl</td>\n",
       "      <td>src/fnl/nlp/dictionary.py</td>\n",
       "      <td>__init__</td>\n",
       "      <td>19</td>\n",
       "      <td>def __init__(self, *leafs, **edges):\\n    self...</td>\n",
       "      <td>def __init__ self leafs edges self edges edges...</td>\n",
       "      <td></td>\n",
       "      <td>self edges edges self leafs sorted leafs</td>\n",
       "      <td>init</td>\n",
       "    </tr>\n",
       "    <tr>\n",
       "      <th>1</th>\n",
       "      <td>fnl/libfnl</td>\n",
       "      <td>src/fnl/nlp/dictionary.py</td>\n",
       "      <td>__eq__</td>\n",
       "      <td>23</td>\n",
       "      <td>def __eq__(self, other):\\n    if isinstance(ot...</td>\n",
       "      <td>def __eq__ self other if isinstance other Node...</td>\n",
       "      <td></td>\n",
       "      <td>if isinstance other node return id self id oth...</td>\n",
       "      <td>eq</td>\n",
       "    </tr>\n",
       "    <tr>\n",
       "      <th>2</th>\n",
       "      <td>fnl/libfnl</td>\n",
       "      <td>src/fnl/nlp/dictionary.py</td>\n",
       "      <td>__repr__</td>\n",
       "      <td>29</td>\n",
       "      <td>def __repr__(self):\\n    return 'Node&lt;leafs={}...</td>\n",
       "      <td>def __repr__ self return Node leafs edges form...</td>\n",
       "      <td></td>\n",
       "      <td>return node&lt;leafs={}, edges={}&gt; format self le...</td>\n",
       "      <td>repr</td>\n",
       "    </tr>\n",
       "    <tr>\n",
       "      <th>3</th>\n",
       "      <td>fnl/libfnl</td>\n",
       "      <td>src/fnl/nlp/dictionary.py</td>\n",
       "      <td>create_or_get</td>\n",
       "      <td>32</td>\n",
       "      <td>def createOrGet(self, token):\\n    \"\"\"\\n\\t\\tCr...</td>\n",
       "      <td>def createOrGet self token if token in self ed...</td>\n",
       "      <td>create or get the node pointed to by ` token `...</td>\n",
       "      <td>if token self edges node self edges token else...</td>\n",
       "      <td>create or get</td>\n",
       "    </tr>\n",
       "    <tr>\n",
       "      <th>4</th>\n",
       "      <td>fnl/libfnl</td>\n",
       "      <td>src/fnl/nlp/dictionary.py</td>\n",
       "      <td>set_leaf</td>\n",
       "      <td>47</td>\n",
       "      <td>def setLeaf(self, key, order):\\n    \"\"\"\\n\\t\\tS...</td>\n",
       "      <td>def setLeaf self key order self leafs append o...</td>\n",
       "      <td>store the ` key ` as a leaf of this node at po...</td>\n",
       "      <td>self leafs append order key self leafs sorted ...</td>\n",
       "      <td>set leaf</td>\n",
       "    </tr>\n",
       "  </tbody>\n",
       "</table>\n",
       "</div>"
      ],
      "text/plain": [
       "          nwo                       path  function_name  lineno  \\\n",
       "0  fnl/libfnl  src/fnl/nlp/dictionary.py       __init__      19   \n",
       "1  fnl/libfnl  src/fnl/nlp/dictionary.py         __eq__      23   \n",
       "2  fnl/libfnl  src/fnl/nlp/dictionary.py       __repr__      29   \n",
       "3  fnl/libfnl  src/fnl/nlp/dictionary.py  create_or_get      32   \n",
       "4  fnl/libfnl  src/fnl/nlp/dictionary.py       set_leaf      47   \n",
       "\n",
       "                                   original_function  \\\n",
       "0  def __init__(self, *leafs, **edges):\\n    self...   \n",
       "1  def __eq__(self, other):\\n    if isinstance(ot...   \n",
       "2  def __repr__(self):\\n    return 'Node<leafs={}...   \n",
       "3  def createOrGet(self, token):\\n    \"\"\"\\n\\t\\tCr...   \n",
       "4  def setLeaf(self, key, order):\\n    \"\"\"\\n\\t\\tS...   \n",
       "\n",
       "                                     function_tokens  \\\n",
       "0  def __init__ self leafs edges self edges edges...   \n",
       "1  def __eq__ self other if isinstance other Node...   \n",
       "2  def __repr__ self return Node leafs edges form...   \n",
       "3  def createOrGet self token if token in self ed...   \n",
       "4  def setLeaf self key order self leafs append o...   \n",
       "\n",
       "                                    docstring_tokens  \\\n",
       "0                                                      \n",
       "1                                                      \n",
       "2                                                      \n",
       "3  create or get the node pointed to by ` token `...   \n",
       "4  store the ` key ` as a leaf of this node at po...   \n",
       "\n",
       "                                        api_sequence tokenized_function_name  \n",
       "0           self edges edges self leafs sorted leafs                    init  \n",
       "1  if isinstance other node return id self id oth...                      eq  \n",
       "2  return node<leafs={}, edges={}> format self le...                    repr  \n",
       "3  if token self edges node self edges token else...           create or get  \n",
       "4  self leafs append order key self leafs sorted ...                set leaf  "
      ]
     },
     "execution_count": 13,
     "metadata": {},
     "output_type": "execute_result"
    }
   ],
   "source": [
    "# %%time\n",
    "df['function_name'] = df['pair'].apply(lambda p: p[0])\n",
    "df['lineno'] = df['pair'].apply(lambda p: p[1])\n",
    "df['original_function'] = df['pair'].apply(lambda p: p[2])\n",
    "df['function_tokens'] = df['pair'].apply(lambda p: p[3])\n",
    "df['docstring_tokens'] = df['pair'].apply(lambda p: p[4])\n",
    "df['api_sequence'] = df['pair'].apply(lambda p:p[5])\n",
    "df['tokenized_function_name'] = df['pair'].apply(lambda p: p[6])\n",
    "df = df[['nwo', 'path', 'function_name', 'lineno', 'original_function', 'function_tokens', 'docstring_tokens', 'api_sequence', 'tokenized_function_name']]\n",
    "# df['url'] = df[['nwo', 'path', 'lineno']].apply(lambda x: 'https://github.com/{}/blob/master/{}#L{}'.format(x[0], x[1], x[2]), axis=1)\n",
    "df.head()"
   ]
  },
  {
   "cell_type": "markdown",
   "metadata": {
    "pycharm": {}
   },
   "source": [
    "## Remove Duplicates"
   ]
  },
  {
   "cell_type": "code",
   "execution_count": 14,
   "metadata": {
    "pycharm": {}
   },
   "outputs": [
    {
     "name": "stdout",
     "output_type": "stream",
     "text": [
      "Removed 1,197,585 duplicate rows\n"
     ]
    }
   ],
   "source": [
    "# %%time\n",
    "# remove observations where the same function appears more than once\n",
    "before_dedup = len(df)\n",
    "df = df.drop_duplicates(['original_function', 'function_tokens'])\n",
    "after_dedup = len(df)\n",
    "\n",
    "print(f'Removed {before_dedup - after_dedup:,} duplicate rows')"
   ]
  },
  {
   "cell_type": "code",
   "execution_count": 15,
   "metadata": {
    "pycharm": {}
   },
   "outputs": [
    {
     "data": {
      "text/plain": [
       "(5403896, 9)"
      ]
     },
     "execution_count": 15,
     "metadata": {},
     "output_type": "execute_result"
    }
   ],
   "source": [
    "df.shape"
   ]
  },
  {
   "cell_type": "code",
   "execution_count": 2,
   "metadata": {},
   "outputs": [],
   "source": [
    "import pandas as pd\n",
    "df = pd.read_pickle('df.pkl')"
   ]
  },
  {
   "cell_type": "markdown",
   "metadata": {
    "pycharm": {}
   },
   "source": [
    "## Separate function w/o docstrings"
   ]
  },
  {
   "cell_type": "code",
   "execution_count": 3,
   "metadata": {
    "pycharm": {}
   },
   "outputs": [],
   "source": [
    "def listlen(x):\n",
    "    if not isinstance(x, list):\n",
    "        return 0\n",
    "    return len(x)\n",
    "\n",
    "# separate functions w/o docstrings\n",
    "# docstrings should be at least 3 words in the docstring to be considered a valid docstring\n",
    "\n",
    "with_docstrings = df[df.docstring_tokens.str.split().apply(listlen) >= 3]\n",
    "without_docstrings = df[df.docstring_tokens.str.split().apply(listlen) < 3]"
   ]
  },
  {
   "cell_type": "markdown",
   "metadata": {
    "pycharm": {}
   },
   "source": [
    "## Partition code by repository to minimize leakage between train, valid & test sets. \n",
    "Rough assumption that each repository has its own style.  We want to avoid having code from the same repository in the training set as well as the validation or holdout set."
   ]
  },
  {
   "cell_type": "code",
   "execution_count": 4,
   "metadata": {
    "pycharm": {}
   },
   "outputs": [],
   "source": [
    "grouped = with_docstrings.groupby('nwo')"
   ]
  },
  {
   "cell_type": "code",
   "execution_count": 7,
   "metadata": {
    "pycharm": {}
   },
   "outputs": [
    {
     "name": "stderr",
     "output_type": "stream",
     "text": [
      "/home/chintanshah/anaconda3/envs/python-ast/lib/python3.6/site-packages/sklearn/model_selection/_split.py:2179: FutureWarning: From version 0.21, test_size will always complement train_size unless both are specified.\n",
      "  FutureWarning)\n"
     ]
    }
   ],
   "source": [
    "# train, valid, test splits\n",
    "train, test = train_test_split(list(grouped), train_size=0.87, shuffle=True, random_state=8081)\n",
    "train, valid = train_test_split(train, train_size=0.82, random_state=8081)"
   ]
  },
  {
   "cell_type": "code",
   "execution_count": 8,
   "metadata": {
    "pycharm": {}
   },
   "outputs": [],
   "source": [
    "train = pd.concat([d for _, d in train]).reset_index(drop=True)\n",
    "valid = pd.concat([d for _, d in valid]).reset_index(drop=True)\n",
    "test = pd.concat([d for _, d in test]).reset_index(drop=True)"
   ]
  },
  {
   "cell_type": "code",
   "execution_count": 9,
   "metadata": {
    "pycharm": {}
   },
   "outputs": [
    {
     "name": "stdout",
     "output_type": "stream",
     "text": [
      "train set num rows 1,000,395\n",
      "valid set num rows 222,292\n",
      "test set num rows 179,249\n",
      "without docstring rows 4,001,960\n"
     ]
    }
   ],
   "source": [
    "print(f'train set num rows {train.shape[0]:,}')\n",
    "print(f'valid set num rows {valid.shape[0]:,}')\n",
    "print(f'test set num rows {test.shape[0]:,}')\n",
    "print(f'without docstring rows {without_docstrings.shape[0]:,}')"
   ]
  },
  {
   "cell_type": "markdown",
   "metadata": {
    "pycharm": {}
   },
   "source": [
    "Preview what the training set looks like.  You can start to see how the data looks, the function tokens and docstring tokens are what will be fed downstream into the models.  The other information is important for diagnostics and bookeeping."
   ]
  },
  {
   "cell_type": "code",
   "execution_count": 17,
   "metadata": {
    "pycharm": {}
   },
   "outputs": [
    {
     "data": {
      "text/plain": [
       "(1000395,)"
      ]
     },
     "execution_count": 17,
     "metadata": {},
     "output_type": "execute_result"
    }
   ],
   "source": [
    "train['api_sequence'].shape"
   ]
  },
  {
   "cell_type": "markdown",
   "metadata": {
    "pycharm": {}
   },
   "source": [
    "## Output each set to train/valid/test.function/docstrings/lineage files\n",
    "Original functions are also written to compressed json files. (Raw functions contain `,`, `\\t`, `\\n`, etc., it is less error-prone using json format)\n",
    "\n",
    "`{train,valid,test}.lineage` are files that contain a reference to the original location where the code was retrieved. "
   ]
  },
  {
   "cell_type": "code",
   "execution_count": 28,
   "metadata": {},
   "outputs": [
    {
     "name": "stdout",
     "output_type": "stream",
     "text": [
      "/home/chintanshah/deep-code-search/code_search/notebooks\r\n"
     ]
    }
   ],
   "source": [
    "!pwd"
   ]
  },
  {
   "cell_type": "code",
   "execution_count": 21,
   "metadata": {
    "pycharm": {}
   },
   "outputs": [],
   "source": [
    "def write_to(df, filename, path='./data/processed_data/'):\n",
    "    \"Helper function to write processed files to disk.\"\n",
    "    out = Path(path)\n",
    "    out.mkdir(exist_ok=True)\n",
    "#     df.function_tokens.to_csv(out/'{}.function'.format(filename), index=False)\n",
    "    file_encoding = 'utf-8'        # set file_encoding to the file encoding (utf8, latin1, etc.)\n",
    "    op_fd = open(out/'{}.api_seq'.format(filename), 'w', encoding=file_encoding, errors = 'replace')\n",
    "    df.api_sequence.to_csv(op_fd, index=False)\n",
    "#     df.tokenized_function_name.to_csv(out/'{}.function_name'.format(filename), index=False)\n",
    "#     df.original_function.to_json(out/'{}_original_function.json.gz'.format(filename), orient='values', compression='gzip')\n",
    "#     if filename != 'without_docstrings':\n",
    "#         df.docstring_tokens.to_csv(out/'{}.docstring'.format(filename), index=False)\n",
    "#     df.url.to_csv(out/'{}.lineage'.format(filename), index=False)"
   ]
  },
  {
   "cell_type": "code",
   "execution_count": 22,
   "metadata": {
    "pycharm": {}
   },
   "outputs": [
    {
     "name": "stderr",
     "output_type": "stream",
     "text": [
      "/home/chintanshah/anaconda3/envs/python-ast/lib/python3.6/site-packages/ipykernel_launcher.py:8: FutureWarning: The signature of `Series.to_csv` was aligned to that of `DataFrame.to_csv`, and argument 'header' will change its default value from False to True: please pass an explicit value to suppress this warning.\n",
      "  \n"
     ]
    }
   ],
   "source": [
    "# write to output files\n",
    "write_to(train, 'train')\n",
    "write_to(valid, 'valid')\n",
    "write_to(test, 'test')\n",
    "write_to(without_docstrings, 'without_docstrings')"
   ]
  },
  {
   "cell_type": "code",
   "execution_count": 15,
   "metadata": {
    "pycharm": {}
   },
   "outputs": [
    {
     "name": "stdout",
     "output_type": "stream",
     "text": [
      "total 3.4G\r\n",
      "drwxr-xr-x 2 chintanshah chintanshah 4.0K Apr  6 20:38 .\r\n",
      "drwxr-xr-x 3 chintanshah chintanshah 4.0K Apr  6 18:22 ..\r\n",
      "-rw-r--r-- 1 chintanshah chintanshah  43M Apr  7 15:27 test.api_seq\r\n",
      "-rw-r--r-- 1 chintanshah chintanshah  13M Apr  7 15:27 test.docstring\r\n",
      "-rw-r--r-- 1 chintanshah chintanshah  57M Apr  7 15:27 test.function\r\n",
      "-rw-r--r-- 1 chintanshah chintanshah 2.5M Apr  7 15:27 test.function_name\r\n",
      "-rw-r--r-- 1 chintanshah chintanshah  26M Apr  7 15:27 test_original_function.json.gz\r\n",
      "-rw-r--r-- 1 chintanshah chintanshah 231M Apr  7 15:25 train.api_seq\r\n",
      "-rw-r--r-- 1 chintanshah chintanshah  72M Apr  7 15:27 train.docstring\r\n",
      "-rw-r--r-- 1 chintanshah chintanshah 308M Apr  7 15:25 train.function\r\n",
      "-rw-r--r-- 1 chintanshah chintanshah  14M Apr  7 15:25 train.function_name\r\n",
      "-rw-r--r-- 1 chintanshah chintanshah 138M Apr  7 15:27 train_original_function.json.gz\r\n",
      "-rw-r--r-- 1 chintanshah chintanshah  51M Apr  7 15:27 valid.api_seq\r\n",
      "-rw-r--r-- 1 chintanshah chintanshah  16M Apr  7 15:27 valid.docstring\r\n",
      "-rw-r--r-- 1 chintanshah chintanshah  68M Apr  7 15:27 valid.function\r\n",
      "-rw-r--r-- 1 chintanshah chintanshah 3.1M Apr  7 15:27 valid.function_name\r\n",
      "-rw-r--r-- 1 chintanshah chintanshah  32M Apr  7 15:27 valid_original_function.json.gz\r\n",
      "-rw-r--r-- 1 chintanshah chintanshah 840M Apr  7 15:32 without_docstrings.api_seq\r\n",
      "-rw-r--r-- 1 chintanshah chintanshah 1.1G Apr  7 15:28 without_docstrings.function\r\n",
      "-rw-r--r-- 1 chintanshah chintanshah  56M Apr  7 15:28 without_docstrings.function_name\r\n",
      "-rw-r--r-- 1 chintanshah chintanshah 356M Apr  7 15:32 without_docstrings_original_function.json.gz\r\n"
     ]
    }
   ],
   "source": [
    "!ls -lah ./data/processed_data/"
   ]
  },
  {
   "cell_type": "markdown",
   "metadata": {
    "pycharm": {}
   },
   "source": [
    "## The pre-processed data is also hosted on Google Cloud, at the following URLs:"
   ]
  },
  {
   "cell_type": "code",
   "execution_count": 24,
   "metadata": {
    "pycharm": {}
   },
   "outputs": [
    {
     "name": "stdout",
     "output_type": "stream",
     "text": [
      "https://storage.googleapis.com/kubeflow-examples/code_search/data/test.docstring\n",
      "https://storage.googleapis.com/kubeflow-examples/code_search/data/test.function\n",
      "https://storage.googleapis.com/kubeflow-examples/code_search/data/test.lineage\n",
      "https://storage.googleapis.com/kubeflow-examples/code_search/data/test_original_function.json.gz\n",
      "https://storage.googleapis.com/kubeflow-examples/code_search/data/train.docstring\n",
      "https://storage.googleapis.com/kubeflow-examples/code_search/data/train.function\n",
      "https://storage.googleapis.com/kubeflow-examples/code_search/data/train.lineage\n",
      "https://storage.googleapis.com/kubeflow-examples/code_search/data/train_original_function.json.gz\n",
      "https://storage.googleapis.com/kubeflow-examples/code_search/data/valid.docstring\n",
      "https://storage.googleapis.com/kubeflow-examples/code_search/data/valid.function\n",
      "https://storage.googleapis.com/kubeflow-examples/code_search/data/valid.lineage\n",
      "https://storage.googleapis.com/kubeflow-examples/code_search/data/valid_original_function.json.gz\n",
      "https://storage.googleapis.com/kubeflow-examples/code_search/data/without_docstrings.function\n",
      "https://storage.googleapis.com/kubeflow-examples/code_search/data/without_docstrings.lineage\n",
      "https://storage.googleapis.com/kubeflow-examples/code_search/data/without_docstrings_original_function.json.gz\n"
     ]
    }
   ],
   "source": [
    "# # cool trick to send shell command results into a python variable in a jupyter notebook!\n",
    "# files = ! ls ./data/processed_data/ | grep -E '*.function$|*.docstring$|*.lineage$|*_original_function.json.gz$'\n",
    "\n",
    "# # print the urls\n",
    "# urls = [f'https://storage.googleapis.com/kubeflow-examples/code_search/data/{f}' for f in files]\n",
    "# for s in urls:\n",
    "#     print(s)"
   ]
  }
 ],
 "metadata": {
  "kernelspec": {
   "display_name": "Python 3",
   "language": "python",
   "name": "python3"
  },
  "language_info": {
   "codemirror_mode": {
    "name": "ipython",
    "version": 3
   },
   "file_extension": ".py",
   "mimetype": "text/x-python",
   "name": "python",
   "nbconvert_exporter": "python",
   "pygments_lexer": "ipython3",
   "version": "3.6.8"
  }
 },
 "nbformat": 4,
 "nbformat_minor": 2
}
